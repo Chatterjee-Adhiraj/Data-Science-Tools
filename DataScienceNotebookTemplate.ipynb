{
 "cells": [
  {
   "cell_type": "markdown",
   "id": "83943612",
   "metadata": {},
   "source": [
    "# Data Science Tools and Ecosystem"
   ]
  },
  {
   "cell_type": "markdown",
   "id": "b6892452",
   "metadata": {},
   "source": [
    "This notebook explores various data science tools, languages, libraries, and provides practical examples of arithmetic operations and conversions."
   ]
  },
  {
   "cell_type": "markdown",
   "id": "f36ea726",
   "metadata": {},
   "source": [
    "**Objectives:**\n",
    "\n",
    "- Add comments to code cells\n",
    "- Create markdown cells\n",
    "- Add ordered and unordered lists to markdown cells\n",
    "- Format content of markdown cells with heading styles"
   ]
  },
  {
   "cell_type": "markdown",
   "id": "b7048adf",
   "metadata": {},
   "source": [
    "**Some of the popular Data Science Languages:**\n",
    "\n",
    "- Python\n",
    "- R\n",
    "- Julia\n",
    "- SQL\n",
    "- Scala\n",
    "- Java\n",
    "- C++\n",
    "- JavaScript\n",
    "- Ruby\n",
    "- Go"
   ]
  },
  {
   "cell_type": "markdown",
   "id": "9dad872e",
   "metadata": {},
   "source": [
    "**Some of the commonly used Data Science Libraries:**\n",
    "\n",
    "- NumPy\n",
    "- Pandas\n",
    "- Matplotlib\n",
    "- Scikit-learn\n",
    "- TensorFlow\n",
    "- Keras\n",
    "- PyTorch\n",
    "- Seaborn"
   ]
  },
  {
   "cell_type": "markdown",
   "id": "f78341d1",
   "metadata": {},
   "source": [
    "**Data Science Tools:**\n",
    "\n",
    "| Tool | Category | Purpose |\n",
    "|------|----------|---------|\n",
    "| Jupyter Notebook | Development Environment | Interactive computing |\n",
    "| GitHub | Version Control | Code repository and collaboration |\n",
    "| VS Code | Code Editor | Integrated development environment |\n",
    "| Anaconda | Distribution | Python and R distribution for data science |\n",
    "| RStudio | IDE | Integrated development environment for R |"
   ]
  },
  {
   "cell_type": "markdown",
   "id": "bf0b91fc",
   "metadata": {},
   "source": [
    "**Below are a few examples of evaluating basic arithmetic operations in Python.**"
   ]
  },
  {
   "cell_type": "code",
   "execution_count": 5,
   "id": "7531ca13",
   "metadata": {},
   "outputs": [
    {
     "name": "stdout",
     "output_type": "stream",
     "text": [
      "Multiplication result: 15\n",
      "Addition result: 8\n"
     ]
    }
   ],
   "source": [
    "# Multiply and add numbers\n",
    "a = 5\n",
    "b = 3\n",
    "multiply_result = a * b\n",
    "add_result = a + b\n",
    "print(f\"Multiplication result: {multiply_result}\")\n",
    "print(f\"Addition result: {add_result}\")"
   ]
  },
  {
   "cell_type": "code",
   "execution_count": 6,
   "id": "10958f68",
   "metadata": {},
   "outputs": [
    {
     "name": "stdout",
     "output_type": "stream",
     "text": [
      "150 minutes is equal to 2.5 hours\n"
     ]
    }
   ],
   "source": [
    "# Convert minutes to hours\n",
    "minutes = 150\n",
    "hours = minutes / 60\n",
    "print(f\"{minutes} minutes is equal to {hours} hours\")"
   ]
  },
  {
   "cell_type": "markdown",
   "id": "7e3d47cf",
   "metadata": {},
   "source": [
    "## Author\n",
    "\n",
    "Adhiraj Chatterjee"
   ]
  }
 ],
 "metadata": {
  "kernelspec": {
   "display_name": "Python 3 (ipykernel)",
   "language": "python",
   "name": "python3"
  },
  "language_info": {
   "codemirror_mode": {
    "name": "ipython",
    "version": 3
   },
   "file_extension": ".py",
   "mimetype": "text/x-python",
   "name": "python",
   "nbconvert_exporter": "python",
   "pygments_lexer": "ipython3",
   "version": "3.11.5"
  }
 },
 "nbformat": 4,
 "nbformat_minor": 5
}
